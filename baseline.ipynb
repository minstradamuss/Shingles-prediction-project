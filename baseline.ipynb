{
  "nbformat": 4,
  "nbformat_minor": 0,
  "metadata": {
    "colab": {
      "provenance": [],
      "machine_shape": "hm",
      "gpuType": "T4"
    },
    "kernelspec": {
      "name": "python3",
      "display_name": "Python 3"
    },
    "language_info": {
      "name": "python"
    },
    "accelerator": "GPU"
  },
  "cells": [
    {
      "cell_type": "code",
      "source": [
        "import json\n",
        "import csv\n",
        "from collections import defaultdict\n",
        "\n",
        "def count_shingle_occurrences(filename):\n",
        "    shingle_bad_counts = defaultdict(int)\n",
        "    shingle_total_counts = defaultdict(int)\n",
        "    total_texts = 0\n",
        "    bad_texts = 0\n",
        "\n",
        "    with open(filename, 'r', encoding='utf-8') as file:\n",
        "        for line in file:\n",
        "            if line.strip():\n",
        "                try:\n",
        "                    data = json.loads(line)\n",
        "                    total_texts += 1\n",
        "                    is_bad = not data['target']\n",
        "                    if is_bad:\n",
        "                        bad_texts += 1\n",
        "\n",
        "                    unique_shingles = set(data['shingles'])\n",
        "\n",
        "                    for shingle in unique_shingles:\n",
        "                        shingle_total_counts[shingle] += 1\n",
        "                        if is_bad:\n",
        "                            shingle_bad_counts[shingle] += 1\n",
        "\n",
        "                except json.JSONDecodeError as e:\n",
        "                    print(f\"JSON decoding error: {e}\")\n",
        "\n",
        "    return shingle_bad_counts, shingle_total_counts, total_texts, bad_texts\n",
        "\n",
        "def classify_shingles_and_evaluate(filename, shingle_bad_counts, shingle_total_counts, total_texts, bad_texts):\n",
        "    correct_predictions = 0\n",
        "    total_predictions = 0\n",
        "\n",
        "    with open(filename, 'r', encoding='utf-8') as file:\n",
        "        for line in file:\n",
        "            if line.strip():\n",
        "                try:\n",
        "                    data = json.loads(line)\n",
        "                    total_predictions += 1\n",
        "                    phishing_likelihood = sum(\n",
        "                        shingle_bad_counts[shingle] / shingle_total_counts[shingle]\n",
        "                        for shingle in data['shingles']\n",
        "                        if shingle in shingle_total_counts\n",
        "                    ) / len(data['shingles'])\n",
        "\n",
        "                    # Classify as phishing (1) if likelihood > 50%, else not phishing (0)\n",
        "                    prediction = 1 if phishing_likelihood > (bad_texts / total_texts) else 0\n",
        "                    actual = 1 if not data['target'] else 0\n",
        "\n",
        "                    if prediction == actual:\n",
        "                        correct_predictions += 1\n",
        "\n",
        "                except json.JSONDecodeError as e:\n",
        "                    print(f\"JSON decoding error: {e}\")\n",
        "\n",
        "    accuracy = correct_predictions / total_predictions if total_predictions > 0 else 0\n",
        "    print(f\"Accuracy: {accuracy:.2%}\")\n",
        "\n",
        "def save_to_csv(shingle_bad_counts, shingle_total_counts, output_filename):\n",
        "    with open(output_filename, 'w', newline='', encoding='utf-8') as csvfile:\n",
        "        writer = csv.writer(csvfile)\n",
        "        writer.writerow(['Shingle', 'Count in phishing texts', 'Count in all texts'])\n",
        "\n",
        "        all_shingles = set(shingle_total_counts.keys()).union(shingle_bad_counts.keys())\n",
        "        for shingle in all_shingles:\n",
        "            writer.writerow([\n",
        "                shingle,\n",
        "                shingle_bad_counts.get(shingle, 0),\n",
        "                shingle_total_counts.get(shingle, 0)\n",
        "            ])\n",
        "\n",
        "filename = '/content/dataset_shingles_maria_sample.json'\n",
        "shingle_bad_counts, shingle_total_counts, total_texts, bad_texts = count_shingle_occurrences(filename)\n",
        "\n",
        "output_filename = 'shingle_counts.csv'\n",
        "save_to_csv(shingle_bad_counts, shingle_total_counts, output_filename)\n",
        "\n",
        "classify_shingles_and_evaluate(filename, shingle_bad_counts, shingle_total_counts, total_texts, bad_texts)\n"
      ],
      "metadata": {
        "colab": {
          "base_uri": "https://localhost:8080/"
        },
        "id": "5U6zx511ezhT",
        "outputId": "d26d96bc-6ece-499f-c5ef-6fa0b2466e74"
      },
      "execution_count": 1,
      "outputs": [
        {
          "output_type": "stream",
          "name": "stdout",
          "text": [
            "JSON decoding error: Expecting ',' delimiter: line 1 column 5817 (char 5816)\n",
            "JSON decoding error: Expecting value: line 1 column 5497 (char 5496)\n",
            "Accuracy: 94.23%\n"
          ]
        }
      ]
    }
  ]
}